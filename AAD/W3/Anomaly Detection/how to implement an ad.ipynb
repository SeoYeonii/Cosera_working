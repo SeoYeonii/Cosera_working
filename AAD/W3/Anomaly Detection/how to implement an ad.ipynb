{
    "nbformat_minor": 1, 
    "cells": [
        {
            "source": "At the lowest level, even a TCP connection\ncan be seen as a message queue. <br  />\nAlthough, if you can't consume your messages fast enough, you will lose data due to time outs. <br  />\nEven the UDP connection can be seen as some kind of a message queue.<br  /> \nBut your messages can get lost and order is not preserved. <br  />\nOften also, HTTP with rest, our web circuits are used as message queues. <br  />\nMQTT is often used for IoT telemetry use cases because it's very lightweight. <br  />\nMQTT defines the message protocol, so it decouples on the end receiver. <br  />\nWe will use MQTT in our example. <br  />\nKafka is also an example of a message protocol which is widely used for all sorts of data. At the other end of the spectrum\nresides streaming engines, like IBM Streams,\nApache Spark, or Apache Flink, which do not only allow data movement but\nalso data transformation in between.", 
            "cell_type": "markdown", 
            "metadata": {
                "collapsed": true
            }
        }, 
        {
            "source": "", 
            "cell_type": "code", 
            "metadata": {}, 
            "outputs": [], 
            "execution_count": null
        }
    ], 
    "metadata": {
        "kernelspec": {
            "display_name": "Python 3.5 with Spark 2.1", 
            "name": "python3-spark21", 
            "language": "python"
        }, 
        "language_info": {
            "mimetype": "text/x-python", 
            "nbconvert_exporter": "python", 
            "version": "3.5.4", 
            "name": "python", 
            "pygments_lexer": "ipython3", 
            "file_extension": ".py", 
            "codemirror_mode": {
                "version": 3, 
                "name": "ipython"
            }
        }
    }, 
    "nbformat": 4
}
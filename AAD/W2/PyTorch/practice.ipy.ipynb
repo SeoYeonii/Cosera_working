{
    "nbformat_minor": 1, 
    "cells": [
        {
            "source": "## Linear model", 
            "cell_type": "markdown", 
            "metadata": {
                "collapsed": true
            }
        }, 
        {
            "source": "import torch \nimport torch.nn as nn\nfrom torch.autograd import Variable\nimport numpy as np", 
            "cell_type": "code", 
            "metadata": {}, 
            "outputs": [], 
            "execution_count": 2
        }, 
        {
            "source": "x = [i for i in range(20)] # list comprehention\nx_train = np.array(x, dtype=np.float32)\nx_train = x_train.reshape(-1, 1)\nprint(x)\nprint(x_train.shape)\n\ny = [(5*i +2) for i in x] # list comprehention\ny_train = np.array(y, dtype=np.float32)\ny_train = y_train.reshape(-1,1)\nprint(y)\nprint(y_train.shape)", 
            "cell_type": "code", 
            "metadata": {}, 
            "outputs": [
                {
                    "output_type": "stream", 
                    "name": "stdout", 
                    "text": "[0, 1, 2, 3, 4, 5, 6, 7, 8, 9, 10, 11, 12, 13, 14, 15, 16, 17, 18, 19]\n(20, 1)\n[2, 7, 12, 17, 22, 27, 32, 37, 42, 47, 52, 57, 62, 67, 72, 77, 82, 87, 92, 97]\n(20, 1)\n"
                }
            ], 
            "execution_count": 3
        }, 
        {
            "source": "## create Model Class", 
            "cell_type": "markdown", 
            "metadata": {}
        }, 
        {
            "source": "class LinearRegressor(nn.Module):\n    def __init__(self, input_dim, output_dim):\n        super(LinearRegressor, self).__init__()\n        self.linear = nn.Linear(input_dim, output_dim)\n        \n    def forward(self, x):\n        out = self.linear(x)\n        return out\n\ninput_dim = 1\noutput_dim = 1\n\nmodel = LinearRegressor(input_dim, output_dim)\n\nmodel", 
            "cell_type": "code", 
            "metadata": {}, 
            "outputs": [
                {
                    "output_type": "execute_result", 
                    "data": {
                        "text/plain": "LinearRegressor(\n  (linear): Linear(in_features=1, out_features=1, bias=True)\n)"
                    }, 
                    "execution_count": 4, 
                    "metadata": {}
                }
            ], 
            "execution_count": 4
        }, 
        {
            "source": "## Loss & Optimizer", 
            "cell_type": "markdown", 
            "metadata": {}
        }, 
        {
            "source": "loss_function = nn.MSELoss()\n\noptimizer = torch.optim.SGD(model.parameters(), lr=0.001)\noptimizer\nloss_function", 
            "cell_type": "code", 
            "metadata": {}, 
            "outputs": [
                {
                    "output_type": "execute_result", 
                    "data": {
                        "text/plain": "MSELoss(\n)"
                    }, 
                    "execution_count": 5, 
                    "metadata": {}
                }
            ], 
            "execution_count": 5
        }, 
        {
            "source": "epochs = 500\nfor epoch in range(epochs):\n    epoch += 1\n    #Convert inputs and outputs to torch variable\n    inputs = Variable(torch.from_numpy(x_train))\n    \n    real_outputs = Variable(torch.from_numpy(y_train))\n    \n    # Reset Gradients\n    optimizer.zero_grad()\n    \n    # Forward - compute the output\n    pred_outputs = model(inputs)\n    \n    # Loss \n    loss = loss_function(pred_outputs, real_outputs)\n    \n    # Backword - compute gradients\n    loss.backward()\n    \n    # Update parameters\n    optimizer.step()\n    \n    print( 'epoch {}, loss {}'.format(epoch, loss.data[0]))", 
            "cell_type": "code", 
            "metadata": {}, 
            "outputs": [
                {
                    "output_type": "stream", 
                    "name": "stdout", 
                    "text": "epoch 1, loss 3855.05810547\nepoch 2, loss 2177.5090332\nepoch 3, loss 1230.02026367\nepoch 4, loss 694.873352051\nepoch 5, loss 392.619384766\nepoch 6, loss 221.904632568\nepoch 7, loss 125.483825684\nepoch 8, loss 71.0247039795\nepoch 9, loss 40.265712738\nepoch 10, loss 22.8927650452\nepoch 11, loss 13.0802507401\nepoch 12, loss 7.53794765472\nepoch 13, loss 4.40744400024\nepoch 14, loss 2.63917016983\nepoch 15, loss 1.64027249813\nepoch 16, loss 1.07593691349\nepoch 17, loss 0.757032930851\nepoch 18, loss 0.576756775379\nepoch 19, loss 0.474776595831\nepoch 20, loss 0.417017310858\nepoch 21, loss 0.384233772755\nepoch 22, loss 0.365558832884\nepoch 23, loss 0.354853868484\nepoch 24, loss 0.348648279905\nepoch 25, loss 0.344983279705\nepoch 26, loss 0.342755973339\nepoch 27, loss 0.341339290142\nepoch 28, loss 0.340380847454\nepoch 29, loss 0.33968180418\nepoch 30, loss 0.339128255844\nepoch 31, loss 0.338659852743\nepoch 32, loss 0.338236600161\nepoch 33, loss 0.337839573622\nepoch 34, loss 0.337460130453\nepoch 35, loss 0.337087124586\nepoch 36, loss 0.336721360683\nepoch 37, loss 0.336357235909\nepoch 38, loss 0.335995197296\nepoch 39, loss 0.335633277893\nepoch 40, loss 0.335273742676\nepoch 41, loss 0.334913909435\nepoch 42, loss 0.334556251764\nepoch 43, loss 0.334197580814\nepoch 44, loss 0.333839297295\nepoch 45, loss 0.333483666182\nepoch 46, loss 0.333126634359\nepoch 47, loss 0.332769244909\nepoch 48, loss 0.332413107157\nepoch 49, loss 0.332057446241\nepoch 50, loss 0.331701874733\nepoch 51, loss 0.33134740591\nepoch 52, loss 0.330992102623\nepoch 53, loss 0.330637514591\nepoch 54, loss 0.330284118652\nepoch 55, loss 0.329930752516\nepoch 56, loss 0.329576551914\nepoch 57, loss 0.329224705696\nepoch 58, loss 0.328872799873\nepoch 59, loss 0.328520059586\nepoch 60, loss 0.328169465065\nepoch 61, loss 0.327817440033\nepoch 62, loss 0.327467501163\nepoch 63, loss 0.327116042376\nepoch 64, loss 0.326765626669\nepoch 65, loss 0.326417207718\nepoch 66, loss 0.326067060232\nepoch 67, loss 0.325718253851\nepoch 68, loss 0.325369507074\nepoch 69, loss 0.325020700693\nepoch 70, loss 0.324672341347\nepoch 71, loss 0.324325054884\nepoch 72, loss 0.323979049921\nepoch 73, loss 0.323631048203\nepoch 74, loss 0.323284685612\nepoch 75, loss 0.322938770056\nepoch 76, loss 0.322593986988\nepoch 77, loss 0.322248607874\nepoch 78, loss 0.321904361248\nepoch 79, loss 0.321558535099\nepoch 80, loss 0.321215391159\nepoch 81, loss 0.320872008801\nepoch 82, loss 0.320527374744\nepoch 83, loss 0.320184856653\nepoch 84, loss 0.319841712713\nepoch 85, loss 0.319499999285\nepoch 86, loss 0.319157004356\nepoch 87, loss 0.318816572428\nepoch 88, loss 0.318475008011\nepoch 89, loss 0.31813377142\nepoch 90, loss 0.317794531584\nepoch 91, loss 0.317453682423\nepoch 92, loss 0.317113637924\nepoch 93, loss 0.316774278879\nepoch 94, loss 0.316435217857\nepoch 95, loss 0.31609621644\nepoch 96, loss 0.315757870674\nepoch 97, loss 0.315419942141\nepoch 98, loss 0.315082937479\nepoch 99, loss 0.314745217562\nepoch 100, loss 0.314408749342\nepoch 101, loss 0.314072221518\nepoch 102, loss 0.313736736774\nepoch 103, loss 0.313399702311\nepoch 104, loss 0.31306502223\nepoch 105, loss 0.31273022294\nepoch 106, loss 0.312394618988\nepoch 107, loss 0.312060564756\nepoch 108, loss 0.311725944281\nepoch 109, loss 0.31139305234\nepoch 110, loss 0.31105953455\nepoch 111, loss 0.310726761818\nepoch 112, loss 0.310394108295\nepoch 113, loss 0.310061216354\nepoch 114, loss 0.309730231762\nepoch 115, loss 0.309398919344\nepoch 116, loss 0.309067338705\nepoch 117, loss 0.308735817671\nepoch 118, loss 0.308407008648\nepoch 119, loss 0.308077126741\nepoch 120, loss 0.30774730444\nepoch 121, loss 0.307417631149\nepoch 122, loss 0.307088643312\nepoch 123, loss 0.306760460138\nepoch 124, loss 0.306430339813\nepoch 125, loss 0.306102573872\nepoch 126, loss 0.305775463581\nepoch 127, loss 0.305448263884\nepoch 128, loss 0.305121988058\nepoch 129, loss 0.30479440093\nepoch 130, loss 0.30446845293\nepoch 131, loss 0.304143458605\nepoch 132, loss 0.303817212582\nepoch 133, loss 0.303492605686\nepoch 134, loss 0.303166955709\nepoch 135, loss 0.302843391895\nepoch 136, loss 0.302518904209\nepoch 137, loss 0.302194088697\nepoch 138, loss 0.301871329546\nepoch 139, loss 0.301548302174\nepoch 140, loss 0.30122500658\nepoch 141, loss 0.300903707743\nepoch 142, loss 0.30058157444\nepoch 143, loss 0.300259500742\nepoch 144, loss 0.299937903881\nepoch 145, loss 0.299616754055\nepoch 146, loss 0.299296438694\nepoch 147, loss 0.298976153135\nepoch 148, loss 0.298655927181\nepoch 149, loss 0.298336654902\nepoch 150, loss 0.298017472029\nepoch 151, loss 0.297697365284\nepoch 152, loss 0.297379404306\nepoch 153, loss 0.297061383724\nepoch 154, loss 0.296743661165\nepoch 155, loss 0.296425104141\nepoch 156, loss 0.296108365059\nepoch 157, loss 0.295792251825\nepoch 158, loss 0.295475125313\nepoch 159, loss 0.295159578323\nepoch 160, loss 0.294843047857\nepoch 161, loss 0.294526517391\nepoch 162, loss 0.294212162495\nepoch 163, loss 0.293896973133\nepoch 164, loss 0.293581813574\nepoch 165, loss 0.29326915741\nepoch 166, loss 0.292954385281\nepoch 167, loss 0.292640954256\nepoch 168, loss 0.292327344418\nepoch 169, loss 0.292013943195\nepoch 170, loss 0.291701823473\nepoch 171, loss 0.291390836239\nepoch 172, loss 0.291077673435\nepoch 173, loss 0.290765881538\nepoch 174, loss 0.290454924107\nepoch 175, loss 0.290144473314\nepoch 176, loss 0.289834141731\nepoch 177, loss 0.289524227381\nepoch 178, loss 0.289214551449\nepoch 179, loss 0.288904160261\nepoch 180, loss 0.288595169783\nepoch 181, loss 0.288286954165\nepoch 182, loss 0.287977010012\nepoch 183, loss 0.287669837475\nepoch 184, loss 0.287361204624\nepoch 185, loss 0.287054210901\nepoch 186, loss 0.286746233702\nepoch 187, loss 0.286440372467\nepoch 188, loss 0.28613358736\nepoch 189, loss 0.285826265812\nepoch 190, loss 0.285521924496\nepoch 191, loss 0.285215556622\nepoch 192, loss 0.284910142422\nepoch 193, loss 0.28460508585\nepoch 194, loss 0.284300297499\nepoch 195, loss 0.283997565508\nepoch 196, loss 0.283693641424\nepoch 197, loss 0.283389985561\nepoch 198, loss 0.283086448908\nepoch 199, loss 0.282783418894\nepoch 200, loss 0.282479584217\nepoch 201, loss 0.282177150249\nepoch 202, loss 0.281875759363\nepoch 203, loss 0.281574010849\nepoch 204, loss 0.281273186207\nepoch 205, loss 0.280970692635\nepoch 206, loss 0.280671298504\nepoch 207, loss 0.280370980501\nepoch 208, loss 0.280070126057\nepoch 209, loss 0.27977091074\nepoch 210, loss 0.279470950365\nepoch 211, loss 0.279172509909\nepoch 212, loss 0.278872907162\nepoch 213, loss 0.278575628996\nepoch 214, loss 0.278276979923\nepoch 215, loss 0.277978241444\nepoch 216, loss 0.277682006359\nepoch 217, loss 0.277384281158\nepoch 218, loss 0.277087152004\nepoch 219, loss 0.276790440083\nepoch 220, loss 0.27649384737\nepoch 221, loss 0.276199519634\nepoch 222, loss 0.275903880596\nepoch 223, loss 0.275608092546\nepoch 224, loss 0.275313466787\nepoch 225, loss 0.275018960238\nepoch 226, loss 0.274723052979\nepoch 227, loss 0.274429172277\nepoch 228, loss 0.274136036634\nepoch 229, loss 0.273842722178\nepoch 230, loss 0.273549437523\nepoch 231, loss 0.27325630188\nepoch 232, loss 0.272964179516\nepoch 233, loss 0.272672474384\nepoch 234, loss 0.27237957716\nepoch 235, loss 0.272088944912\nepoch 236, loss 0.271798223257\nepoch 237, loss 0.271506726742\nepoch 238, loss 0.271215498447\nepoch 239, loss 0.270925909281\nepoch 240, loss 0.270635694265\nepoch 241, loss 0.270346879959\nepoch 242, loss 0.270056664944\nepoch 243, loss 0.269767701626\nepoch 244, loss 0.269478440285\nepoch 245, loss 0.269191622734\nepoch 246, loss 0.268902659416\nepoch 247, loss 0.268614947796\nepoch 248, loss 0.268327206373\nepoch 249, loss 0.268040239811\nepoch 250, loss 0.267753243446\nepoch 251, loss 0.267466694117\nepoch 252, loss 0.267180144787\nepoch 253, loss 0.266894370317\nepoch 254, loss 0.266609221697\nepoch 255, loss 0.266322880983\nepoch 256, loss 0.266038239002\nepoch 257, loss 0.265753805637\nepoch 258, loss 0.265469610691\nepoch 259, loss 0.265184432268\nepoch 260, loss 0.26490136981\nepoch 261, loss 0.264618337154\nepoch 262, loss 0.264334321022\nepoch 263, loss 0.264052271843\nepoch 264, loss 0.263768702745\nepoch 265, loss 0.263487458229\nepoch 266, loss 0.263204783201\nepoch 267, loss 0.262922346592\nepoch 268, loss 0.262642264366\nepoch 269, loss 0.262360572815\nepoch 270, loss 0.262079179287\nepoch 271, loss 0.261798709631\nepoch 272, loss 0.261519521475\nepoch 273, loss 0.261239171028\nepoch 274, loss 0.260959506035\nepoch 275, loss 0.260680258274\nepoch 276, loss 0.260401338339\nepoch 277, loss 0.26012262702\nepoch 278, loss 0.259844064713\nepoch 279, loss 0.259565830231\nepoch 280, loss 0.259288191795\nepoch 281, loss 0.25901132822\nepoch 282, loss 0.258732736111\nepoch 283, loss 0.258456408978\nepoch 284, loss 0.25817990303\nepoch 285, loss 0.257904022932\nepoch 286, loss 0.257627308369\nepoch 287, loss 0.257352024317\nepoch 288, loss 0.257077276707\nepoch 289, loss 0.256801009178\nepoch 290, loss 0.256526947021\nepoch 291, loss 0.256251871586\nepoch 292, loss 0.25597846508\nepoch 293, loss 0.255703806877\nepoch 294, loss 0.255429714918\nepoch 295, loss 0.255157113075\nepoch 296, loss 0.254883527756\nepoch 297, loss 0.254610359669\nepoch 298, loss 0.254339069128\nepoch 299, loss 0.254066675901\nepoch 300, loss 0.253794133663\nepoch 301, loss 0.253522366285\nepoch 302, loss 0.253251373768\nepoch 303, loss 0.252980291843\nepoch 304, loss 0.252709269524\nepoch 305, loss 0.252438813448\nepoch 306, loss 0.252168834209\nepoch 307, loss 0.251898735762\nepoch 308, loss 0.251629084349\nepoch 309, loss 0.25136038661\nepoch 310, loss 0.251090228558\nepoch 311, loss 0.250822097063\nepoch 312, loss 0.25055333972\nepoch 313, loss 0.250286221504\nepoch 314, loss 0.250017434359\nepoch 315, loss 0.249750226736\nepoch 316, loss 0.249481886625\nepoch 317, loss 0.249215453863\nepoch 318, loss 0.248948380351\nepoch 319, loss 0.248682379723\nepoch 320, loss 0.248416110873\nepoch 321, loss 0.248151183128\nepoch 322, loss 0.247885227203\nepoch 323, loss 0.247618883848\nepoch 324, loss 0.247355267406\nepoch 325, loss 0.247089862823\nepoch 326, loss 0.246825218201\nepoch 327, loss 0.246560901403\nepoch 328, loss 0.246296644211\nepoch 329, loss 0.246034428477\nepoch 330, loss 0.245770856738\nepoch 331, loss 0.245508119464\nepoch 332, loss 0.245245069265\nepoch 333, loss 0.244983121753\nepoch 334, loss 0.244720607996\nepoch 335, loss 0.244457513094\nepoch 336, loss 0.244195848703\nepoch 337, loss 0.24393543601\nepoch 338, loss 0.243673756719\nepoch 339, loss 0.243413776159\nepoch 340, loss 0.243152424693\nepoch 341, loss 0.242892459035\nepoch 342, loss 0.242632821202\nepoch 343, loss 0.242372125387\nepoch 344, loss 0.242113545537\nepoch 345, loss 0.241853684187\nepoch 346, loss 0.241595551372\nepoch 347, loss 0.241336494684\nepoch 348, loss 0.241078823805\nepoch 349, loss 0.240820363164\nepoch 350, loss 0.240562990308\nepoch 351, loss 0.240305379033\nepoch 352, loss 0.240048319101\nepoch 353, loss 0.239790871739\nepoch 354, loss 0.239535421133\nepoch 355, loss 0.23927898705\nepoch 356, loss 0.239022374153\nepoch 357, loss 0.238766163588\nepoch 358, loss 0.238510727882\nepoch 359, loss 0.23825570941\nepoch 360, loss 0.238000541925\nepoch 361, loss 0.237745717168\nepoch 362, loss 0.237491175532\nepoch 363, loss 0.237236902118\nepoch 364, loss 0.236983940005\nepoch 365, loss 0.236730366945\nepoch 366, loss 0.236475944519\nepoch 367, loss 0.236223310232\nepoch 368, loss 0.235970467329\nepoch 369, loss 0.235718488693\nepoch 370, loss 0.23546525836\nepoch 371, loss 0.23521348834\nepoch 372, loss 0.234961122274\nepoch 373, loss 0.234710127115\nepoch 374, loss 0.234458208084\nepoch 375, loss 0.234208106995\nepoch 376, loss 0.233956813812\nepoch 377, loss 0.233707457781\nepoch 378, loss 0.233456924558\nepoch 379, loss 0.233206361532\nepoch 380, loss 0.232957869768\nepoch 381, loss 0.232708141208\nepoch 382, loss 0.232459113002\nepoch 383, loss 0.232209637761\nepoch 384, loss 0.2319624722\nepoch 385, loss 0.231714040041\nepoch 386, loss 0.231465622783\nepoch 387, loss 0.231217905879\nepoch 388, loss 0.230970457196\nepoch 389, loss 0.230723291636\nepoch 390, loss 0.230476260185\nepoch 391, loss 0.230230048299\nepoch 392, loss 0.229983896017\nepoch 393, loss 0.229736402631\nepoch 394, loss 0.229491144419\nepoch 395, loss 0.229245588183\nepoch 396, loss 0.229000732303\nepoch 397, loss 0.228754431009\nepoch 398, loss 0.228510305285\nepoch 399, loss 0.22826564312\nepoch 400, loss 0.228020861745\nepoch 401, loss 0.227777212858\nepoch 402, loss 0.227532833815\nepoch 403, loss 0.227289795876\nepoch 404, loss 0.227045863867\nepoch 405, loss 0.226803615689\nepoch 406, loss 0.226560145617\nepoch 407, loss 0.226318925619\nepoch 408, loss 0.226076170802\nepoch 409, loss 0.225834012032\nepoch 410, loss 0.225591868162\nepoch 411, loss 0.225351497531\nepoch 412, loss 0.225109696388\nepoch 413, loss 0.224868938327\nepoch 414, loss 0.224628046155\nepoch 415, loss 0.224387720227\nepoch 416, loss 0.22414727509\nepoch 417, loss 0.22390730679\nepoch 418, loss 0.223667815328\nepoch 419, loss 0.223428294063\nepoch 420, loss 0.223189681768\nepoch 421, loss 0.222950980067\nepoch 422, loss 0.222711950541\nepoch 423, loss 0.222474068403\nepoch 424, loss 0.222234934568\nepoch 425, loss 0.221997573972\nepoch 426, loss 0.22176015377\nepoch 427, loss 0.221523493528\nepoch 428, loss 0.221285507083\nepoch 429, loss 0.221049115062\nepoch 430, loss 0.220811724663\nepoch 431, loss 0.2205760777\nepoch 432, loss 0.220339387655\nepoch 433, loss 0.220103830099\nepoch 434, loss 0.21986785531\nepoch 435, loss 0.219633311033\nepoch 436, loss 0.219397872686\nepoch 437, loss 0.219163298607\nepoch 438, loss 0.218928843737\nepoch 439, loss 0.218694403768\nepoch 440, loss 0.218460038304\nepoch 441, loss 0.218226477504\nepoch 442, loss 0.217993468046\nepoch 443, loss 0.217759802938\nepoch 444, loss 0.217526361346\nepoch 445, loss 0.217293784022\nepoch 446, loss 0.217061161995\nepoch 447, loss 0.216828778386\nepoch 448, loss 0.216596871614\nepoch 449, loss 0.216364651918\nepoch 450, loss 0.2161334306\n"
                }, 
                {
                    "output_type": "stream", 
                    "name": "stdout", 
                    "text": "epoch 451, loss 0.215902447701\nepoch 452, loss 0.215670511127\nepoch 453, loss 0.215439766645\nepoch 454, loss 0.215209797025\nepoch 455, loss 0.214979141951\nepoch 456, loss 0.214748412371\nepoch 457, loss 0.214519456029\nepoch 458, loss 0.214290454984\nepoch 459, loss 0.214060112834\nepoch 460, loss 0.213831275702\nepoch 461, loss 0.213601708412\nepoch 462, loss 0.213373750448\nepoch 463, loss 0.213144749403\nepoch 464, loss 0.212917402387\nepoch 465, loss 0.212689518929\nepoch 466, loss 0.212462380528\nepoch 467, loss 0.212234348059\nepoch 468, loss 0.212007075548\nepoch 469, loss 0.211779788136\nepoch 470, loss 0.211554005742\nepoch 471, loss 0.211327403784\nepoch 472, loss 0.211101204157\nepoch 473, loss 0.210874959826\nepoch 474, loss 0.21064953506\nepoch 475, loss 0.21042355895\nepoch 476, loss 0.210198193789\nepoch 477, loss 0.209973305464\nepoch 478, loss 0.209748655558\nepoch 479, loss 0.209524482489\nepoch 480, loss 0.209300398827\nepoch 481, loss 0.209076091647\nepoch 482, loss 0.208852574229\nepoch 483, loss 0.208629846573\nepoch 484, loss 0.208405330777\nepoch 485, loss 0.208182737231\nepoch 486, loss 0.2079603374\nepoch 487, loss 0.207736775279\nepoch 488, loss 0.207515075803\nepoch 489, loss 0.207293346524\nepoch 490, loss 0.207070827484\nepoch 491, loss 0.206849962473\nepoch 492, loss 0.206627964973\nepoch 493, loss 0.206407159567\nepoch 494, loss 0.206186249852\nepoch 495, loss 0.205965965986\nepoch 496, loss 0.20574465394\nepoch 497, loss 0.205524414778\nepoch 498, loss 0.205305293202\nepoch 499, loss 0.205084890127\nepoch 500, loss 0.204865336418\n"
                }
            ], 
            "execution_count": 9
        }, 
        {
            "source": "So you have here complete flexibility. <br  />\nHow do you build your computational graph. <br  />\nYou can decide its run time what be in the graph.<br  />\nYou can specify whether to run the tensors on cuda, on GPU or on CPU. <br  />\nEverything you can specify the sizes of the tensors. <br  />\nWhatever you like, its run time and you can change its run time. <br  />\nAnd this is great for the flexibility and my opinion is that the price which you have to pay for it that you have to run some boilerplate code <br  />\nbut it's not too much in my opinion. ", 
            "cell_type": "markdown", 
            "metadata": {}
        }, 
        {
            "source": "", 
            "cell_type": "code", 
            "metadata": {}, 
            "outputs": [], 
            "execution_count": null
        }
    ], 
    "metadata": {
        "kernelspec": {
            "display_name": "Python 2 with Spark 2.1", 
            "name": "python2-spark21", 
            "language": "python"
        }, 
        "language_info": {
            "mimetype": "text/x-python", 
            "nbconvert_exporter": "python", 
            "version": "2.7.11", 
            "name": "python", 
            "pygments_lexer": "ipython2", 
            "file_extension": ".py", 
            "codemirror_mode": {
                "version": 2, 
                "name": "ipython"
            }
        }
    }, 
    "nbformat": 4
}
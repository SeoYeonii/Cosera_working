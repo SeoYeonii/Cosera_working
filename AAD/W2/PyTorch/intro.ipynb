{
    "nbformat_minor": 1, 
    "cells": [
        {
            "source": "# Pytorch  \n  \n### Pytorch installing", 
            "cell_type": "markdown", 
            "metadata": {}
        }, 
        {
            "source": "!pip install http://download.pytorch.org/whl/cpu/torch-0.3.1-cp27-cp27mu-linux_x86_64.whl \n!pip install torchvision", 
            "cell_type": "code", 
            "metadata": {}, 
            "outputs": [
                {
                    "output_type": "stream", 
                    "name": "stdout", 
                    "text": "Collecting torch==0.3.1 from http://download.pytorch.org/whl/cpu/torch-0.3.1-cp27-cp27mu-linux_x86_64.whl\n  Downloading http://download.pytorch.org/whl/cpu/torch-0.3.1-cp27-cp27mu-linux_x86_64.whl (47.2MB)\n\u001b[K    100% |\u2588\u2588\u2588\u2588\u2588\u2588\u2588\u2588\u2588\u2588\u2588\u2588\u2588\u2588\u2588\u2588\u2588\u2588\u2588\u2588\u2588\u2588\u2588\u2588\u2588\u2588\u2588\u2588\u2588\u2588\u2588\u2588| 47.2MB 53.0MB/s ta 0:00:01\n\u001b[?25hRequirement already satisfied: pyyaml in /usr/local/src/bluemix_jupyter_bundle.v85/notebook/lib/python2.7/site-packages (from torch==0.3.1)\nRequirement already satisfied: numpy in /gpfs/global_fs01/sym_shared/YPProdSpark/user/s738-0c6a3f55337817-173cb7893244/.local/lib/python2.7/site-packages (from torch==0.3.1)\nInstalling collected packages: torch\nSuccessfully installed torch-0.3.1\nCollecting torchvision\n  Downloading torchvision-0.2.0-py2.py3-none-any.whl (48kB)\n\u001b[K    100% |\u2588\u2588\u2588\u2588\u2588\u2588\u2588\u2588\u2588\u2588\u2588\u2588\u2588\u2588\u2588\u2588\u2588\u2588\u2588\u2588\u2588\u2588\u2588\u2588\u2588\u2588\u2588\u2588\u2588\u2588\u2588\u2588| 51kB 2.5MB/s eta 0:00:01\n\u001b[?25hRequirement already satisfied: six in /gpfs/global_fs01/sym_shared/YPProdSpark/user/s738-0c6a3f55337817-173cb7893244/.local/lib/python2.7/site-packages (from torchvision)\nRequirement already satisfied: numpy in /gpfs/global_fs01/sym_shared/YPProdSpark/user/s738-0c6a3f55337817-173cb7893244/.local/lib/python2.7/site-packages (from torchvision)\nRequirement already satisfied: torch in /gpfs/global_fs01/sym_shared/YPProdSpark/user/s738-0c6a3f55337817-173cb7893244/.local/lib/python2.7/site-packages (from torchvision)\nRequirement already satisfied: pillow>=4.1.1 in /gpfs/global_fs01/sym_shared/YPProdSpark/user/s738-0c6a3f55337817-173cb7893244/.local/lib/python2.7/site-packages (from torchvision)\nRequirement already satisfied: pyyaml in /usr/local/src/bluemix_jupyter_bundle.v85/notebook/lib/python2.7/site-packages (from torch->torchvision)\nInstalling collected packages: torchvision\nSuccessfully installed torchvision-0.2.0\n"
                }
            ], 
            "execution_count": 1
        }, 
        {
            "source": "import torch", 
            "cell_type": "code", 
            "metadata": {}, 
            "outputs": [], 
            "execution_count": 2
        }, 
        {
            "source": "### PyTroch packages", 
            "cell_type": "markdown", 
            "metadata": {}
        }, 
        {
            "source": "import torch\nimport torch.autograd as autograd\nimport torch.nn as nn\nimport torch.optim as optim\n\ntorch.manual_seed(123)", 
            "cell_type": "code", 
            "metadata": {}, 
            "outputs": [
                {
                    "output_type": "execute_result", 
                    "data": {
                        "text/plain": "<torch._C.Generator at 0x7fb8d0c38490>"
                    }, 
                    "execution_count": 3, 
                    "metadata": {}
                }
            ], 
            "execution_count": 3
        }, 
        {
            "source": "### Creating Tensors  \n  \n Tensors can be created from Python lists with the torch.Tensor() function", 
            "cell_type": "markdown", 
            "metadata": {}
        }, 
        {
            "source": "# Create a torch.Tensor object from python list\nv = [1,2,3]\nprint(type(v))\nv_tensor = torch.Tensor(v)\nprint(v_tensor)\n\n# Create a torch.Tensor object of size 2x3 from 2x3 matrix\nm2x3 = [[1,2,3],[4,5,6]]\nm2x3_tensor = torch.Tensor(m2x3)\nprint(m2x3_tensor)\n\n# Create a 3D torch.Tensor object of a size 3x3x3.\nm3x3x3 = [[[1,2,3],[4,5,6],[7,8,9]],\n         [[10,11,12],[13,14,15],[16,17,18]],\n         [[19,20,21],[22,23,24],[25,26,27]]]\nm3x3x3_tensor = torch.Tensor(m3x3x3)\nprint(m3x3x3_tensor)\n\n#Create a 4Dtensor from random data and given dimensions ( in this case 4x3x3x3) with torch.randn()\nm4x3x3x3_tensor = torch.randn((4,3,3,3))\nm4x3x3x3_tensor.shape\nprint(m4x3x3x3_tensor)", 
            "cell_type": "code", 
            "metadata": {}, 
            "outputs": [
                {
                    "output_type": "stream", 
                    "name": "stdout", 
                    "text": "<type 'list'>\n\n 1\n 2\n 3\n[torch.FloatTensor of size 3]\n\n\n 1  2  3\n 4  5  6\n[torch.FloatTensor of size 2x3]\n\n\n(0 ,.,.) = \n   1   2   3\n   4   5   6\n   7   8   9\n\n(1 ,.,.) = \n  10  11  12\n  13  14  15\n  16  17  18\n\n(2 ,.,.) = \n  19  20  21\n  22  23  24\n  25  26  27\n[torch.FloatTensor of size 3x3x3]\n\n\n(0 ,0 ,.,.) = \n -0.1115  0.1204 -0.3696\n -0.2404 -1.1969  0.2093\n -0.9724 -0.7550  0.3239\n\n(0 ,1 ,.,.) = \n -0.1085  0.2103 -0.3908\n  0.2350  0.6653  0.3528\n  0.9728 -0.0386 -0.8861\n\n(0 ,2 ,.,.) = \n -0.4709 -0.4269 -0.0283\n  1.4220 -0.3886 -0.8903\n -0.9601 -0.4087  1.0764\n\n(1 ,0 ,.,.) = \n -0.4015 -0.7291 -0.1218\n -0.4796 -0.5166 -0.3107\n  0.2057  0.9657  0.7057\n\n(1 ,1 ,.,.) = \n  0.7290  1.2775 -1.0815\n -1.3027  1.0827 -1.3841\n  0.4033 -1.2239  0.7017\n\n(1 ,2 ,.,.) = \n  2.2139 -0.0276  1.0541\n  0.5661 -0.3820  0.8807\n  0.2710  0.7694  0.3453\n\n(2 ,0 ,.,.) = \n  1.8979 -0.2357  0.7885\n  0.3208  0.8456 -0.3621\n  0.1027 -3.5310  0.5485\n\n(2 ,1 ,.,.) = \n -1.6063  0.7281  0.6609\n  0.2391  0.0340  0.1164\n -0.9905  0.5646  0.0686\n\n(2 ,2 ,.,.) = \n -1.0035 -0.7874  0.9840\n  0.2045 -0.3604  1.2101\n -1.0814  0.0789  0.2913\n\n(3 ,0 ,.,.) = \n -0.5023 -0.9306  0.9086\n -0.7788 -1.4453  0.7636\n -0.2469  0.5857  0.9906\n\n(3 ,1 ,.,.) = \n  0.0417 -1.1668  1.3251\n -0.7990  0.6292 -1.2097\n -2.1362 -0.1212 -0.1443\n\n(3 ,2 ,.,.) = \n  0.9969  0.5697 -0.4930\n  0.3155 -0.2275 -1.7942\n  1.0417 -0.2358 -0.3030\n[torch.FloatTensor of size 4x3x3x3]\n\n"
                }
            ], 
            "execution_count": 4
        }, 
        {
            "source": "### Operations with Tensors", 
            "cell_type": "markdown", 
            "metadata": {}
        }, 
        {
            "source": "x = torch.Tensor([1,2,3])\ny = torch.Tensor([4,5,6])\nprint(x)\nprint(y)\n\nw = torch.matmul(x,y)\nprint(w)", 
            "cell_type": "code", 
            "metadata": {}, 
            "outputs": [
                {
                    "output_type": "stream", 
                    "name": "stdout", 
                    "text": "\n 1\n 2\n 3\n[torch.FloatTensor of size 3]\n\n\n 4\n 5\n 6\n[torch.FloatTensor of size 3]\n\n32.0\n"
                }
            ], 
            "execution_count": 5
        }, 
        {
            "source": "Helpful operation: **Concatenation**", 
            "cell_type": "markdown", 
            "metadata": {}
        }, 
        {
            "source": "x_1 = torch.randn(2,5)\nprint(x_1)\ny_1 = torch.randn(3,5)\nprint(y_1)\nz_1 = torch.cat([x_1, y_1])\nprint(z_1)\n\n# Concatenate columns:\nx_2 = torch.randn(2,3)\nprint(x_2)\ny_2 = torch.randn(3,5)\nprint(y_2)\n# second arg specification which axis is to concat along. Here we select 1 (columns). It's attaching the columns.\nz_2 = torch.cat([x_2, y_2],1)\nprint(z_2)\n\n# If your tensors are not compatable, torch will complain. Uncomment to see the error\ntorch.cat([x_1, x_2])", 
            "cell_type": "code", 
            "metadata": {}, 
            "outputs": [
                {
                    "output_type": "stream", 
                    "name": "stdout", 
                    "text": "\n 0.4934 -0.2766  0.2439 -1.2116 -0.1520\n 0.1509 -0.6251 -0.4416  0.3208 -0.3273\n[torch.FloatTensor of size 2x5]\n\n\n-0.5305 -0.0172  0.4719  0.5671  2.7930\n 0.3229  0.8552  0.7492 -1.7119  0.6025\n-0.7018 -1.3130  0.1574  2.0114  0.1004\n[torch.FloatTensor of size 3x5]\n\n\n 0.4934 -0.2766  0.2439 -1.2116 -0.1520\n 0.1509 -0.6251 -0.4416  0.3208 -0.3273\n-0.5305 -0.0172  0.4719  0.5671  2.7930\n 0.3229  0.8552  0.7492 -1.7119  0.6025\n-0.7018 -1.3130  0.1574  2.0114  0.1004\n[torch.FloatTensor of size 5x5]\n\n\n 0.8222 -0.0176  1.2481\n-0.0710  2.1627  1.5215\n[torch.FloatTensor of size 2x3]\n\n\n-1.0547  1.7822  1.9736 -0.3101 -0.8211\n 0.1315 -0.6948 -0.5823  1.0035 -1.4613\n 0.8985  0.6210 -0.9679  0.6740 -1.2828\n[torch.FloatTensor of size 3x5]\n\n"
                }, 
                {
                    "output_type": "error", 
                    "evalue": "invalid argument 0: Sizes of tensors must match except in dimension 1. Got 2 and 3 in dimension 0 at /pytorch/torch/lib/TH/generic/THTensorMath.c:2897", 
                    "traceback": [
                        "\u001b[0;31m\u001b[0m", 
                        "\u001b[0;31mRuntimeError\u001b[0mTraceback (most recent call last)", 
                        "\u001b[0;32m<ipython-input-6-b192fdbe5926>\u001b[0m in \u001b[0;36m<module>\u001b[0;34m()\u001b[0m\n\u001b[1;32m     12\u001b[0m \u001b[0;32mprint\u001b[0m\u001b[0;34m(\u001b[0m\u001b[0my_2\u001b[0m\u001b[0;34m)\u001b[0m\u001b[0;34m\u001b[0m\u001b[0m\n\u001b[1;32m     13\u001b[0m \u001b[0;31m# second arg specification which axis is to concat along. Here we select 1 (columns). It's attaching the columns.\u001b[0m\u001b[0;34m\u001b[0m\u001b[0;34m\u001b[0m\u001b[0m\n\u001b[0;32m---> 14\u001b[0;31m \u001b[0mz_2\u001b[0m \u001b[0;34m=\u001b[0m \u001b[0mtorch\u001b[0m\u001b[0;34m.\u001b[0m\u001b[0mcat\u001b[0m\u001b[0;34m(\u001b[0m\u001b[0;34m[\u001b[0m\u001b[0mx_2\u001b[0m\u001b[0;34m,\u001b[0m \u001b[0my_2\u001b[0m\u001b[0;34m]\u001b[0m\u001b[0;34m,\u001b[0m\u001b[0;36m1\u001b[0m\u001b[0;34m)\u001b[0m\u001b[0;34m\u001b[0m\u001b[0m\n\u001b[0m\u001b[1;32m     15\u001b[0m \u001b[0;32mprint\u001b[0m\u001b[0;34m(\u001b[0m\u001b[0mz_2\u001b[0m\u001b[0;34m)\u001b[0m\u001b[0;34m\u001b[0m\u001b[0m\n\u001b[1;32m     16\u001b[0m \u001b[0;34m\u001b[0m\u001b[0m\n", 
                        "\u001b[0;31mRuntimeError\u001b[0m: invalid argument 0: Sizes of tensors must match except in dimension 1. Got 2 and 3 in dimension 0 at /pytorch/torch/lib/TH/generic/THTensorMath.c:2897"
                    ], 
                    "ename": "RuntimeError"
                }
            ], 
            "execution_count": 6
        }, 
        {
            "source": "### Reshaping Tensors  \n  \nWe can use the `.view()` method to reshape a tensor. Often we will need to reshape our data before passing it to a neuronal network.<br  />\nLet's assume we have 64000RGB images with the size of 28x28 pixels.<br  />\nWe can define an array to shape (64000,3,28,28) to hold them, where 3 is number of color channels <br  />", 
            "cell_type": "markdown", 
            "metadata": {}
        }, 
        {
            "source": "x = torch.randn(64000, 3, 28, 28)\n# Now we want to add a batch dimension of size 32. We can then infer the second dimension by placing -1;\nx_reshaped = x.view(32,-1,3,28,28)\nprint(x_reshaped.shape)", 
            "cell_type": "code", 
            "metadata": {}, 
            "outputs": [
                {
                    "output_type": "stream", 
                    "name": "stdout", 
                    "text": "torch.Size([32, 2000, 3, 28, 28])\n"
                }
            ], 
            "execution_count": 7
        }, 
        {
            "source": "### Computation Graphs and Automatic Differentiation\n\nA computation graph is a specification of what parameters with which operations are involved in the computation to give the output<br  />\nThe fundamental class of PyTorch `autograd.Variable` keeps track of how it was created", 
            "cell_type": "markdown", 
            "metadata": {}
        }, 
        {
            "source": "# Variables wrap tensor objects\nx = autograd.Variable(torch.Tensor([1,2,3]), requires_grad=True)\n# You can access the data with the .data attribute\nprint(x.data)\n\ny = autograd.Variable(torch.Tensor([4,5,6]), requires_grad=True)\n\n# with autograd.Variable you can also perform all the same operations you did with tensors\nz = x + y\nprint(z.data)\n\n# w knows also that it's result of addition of z lements (AddBackward)\noperation = z.grad_fn\nprint(operation)", 
            "cell_type": "code", 
            "metadata": {
                "scrolled": true
            }, 
            "outputs": [
                {
                    "output_type": "stream", 
                    "name": "stdout", 
                    "text": "\n 1\n 2\n 3\n[torch.FloatTensor of size 3]\n\n\n 5\n 7\n 9\n[torch.FloatTensor of size 3]\n\n<AddBackward1 object at 0x7fb8bfca8b10>\n"
                }
            ], 
            "execution_count": 12
        }, 
        {
            "source": "s = z.sum()\nprint(s)\nprint(s.grad_fn)\n\n# calling .backward() on any variable will run backprop, starting from it\ns. backward(retain_graph=True)", 
            "cell_type": "code", 
            "metadata": {}, 
            "outputs": [
                {
                    "output_type": "stream", 
                    "name": "stdout", 
                    "text": "Variable containing:\n 21\n[torch.FloatTensor of size 1]\n\n<SumBackward0 object at 0x7fb8bfcca710>\n"
                }
            ], 
            "execution_count": 20
        }, 
        {
            "source": "print(x)\nprint(x.grad) # x\ub85c \ud3b8\ubbf8\ubd84\nprint(y.grad) # y\ub85c \ud3b8\ubbf8\ubd84", 
            "cell_type": "code", 
            "metadata": {}, 
            "outputs": [
                {
                    "output_type": "stream", 
                    "name": "stdout", 
                    "text": "Variable containing:\n 1\n 2\n 3\n[torch.FloatTensor of size 3]\n\nVariable containing:\n 4\n 4\n 4\n[torch.FloatTensor of size 3]\n\nVariable containing:\n 4\n 4\n 4\n[torch.FloatTensor of size 3]\n\n"
                }
            ], 
            "execution_count": 21
        }, 
        {
            "source": "Every time we call the back progation, the gradient property is accumulated", 
            "cell_type": "markdown", 
            "metadata": {}
        }, 
        {
            "source": "### How **NOT** to break the computational graph", 
            "cell_type": "markdown", 
            "metadata": {}
        }, 
        {
            "source": "x = torch.randn((2,2))\ny = torch.randn((2,2))\nz = x + y\n\nprint(z)", 
            "cell_type": "code", 
            "metadata": {}, 
            "outputs": [
                {
                    "output_type": "stream", 
                    "name": "stdout", 
                    "text": "\n-1.9459 -1.8592\n-1.4445 -2.0345\n[torch.FloatTensor of size 2x2]\n\n"
                }
            ], 
            "execution_count": 24
        }, 
        {
            "source": "## CUDA\ncheck wether GPU accelaration with CUDA is available", 
            "cell_type": "markdown", 
            "metadata": {}
        }, 
        {
            "source": "# let us run this cell only if CUDA is available\nif torch.cuda.is_available():\n    a = torch.LongTensor(10).fill_(3).cuda()\n    print(type(a))\n    b = a.cpu()\nelse:\n    print(\"No I can't\")", 
            "cell_type": "code", 
            "metadata": {}, 
            "outputs": [
                {
                    "output_type": "stream", 
                    "name": "stdout", 
                    "text": "No I can't\n"
                }
            ], 
            "execution_count": 28
        }, 
        {
            "source": "", 
            "cell_type": "code", 
            "metadata": {}, 
            "outputs": [], 
            "execution_count": null
        }
    ], 
    "metadata": {
        "kernelspec": {
            "display_name": "Python 2 with Spark 2.1", 
            "name": "python2-spark21", 
            "language": "python"
        }, 
        "language_info": {
            "mimetype": "text/x-python", 
            "nbconvert_exporter": "python", 
            "version": "2.7.11", 
            "name": "python", 
            "pygments_lexer": "ipython2", 
            "file_extension": ".py", 
            "codemirror_mode": {
                "version": 2, 
                "name": "ipython"
            }
        }
    }, 
    "nbformat": 4
}
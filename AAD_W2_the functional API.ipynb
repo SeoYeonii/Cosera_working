{
    "nbformat_minor": 1, 
    "cells": [
        {
            "execution_count": 2, 
            "cell_type": "code", 
            "metadata": {}, 
            "outputs": [], 
            "source": "from keras.layers import Input, Dense\nfrom keras.models import Model\n\nnum_classes = 10\ninputs = Input(shape=(784,))\n\nx = Dense(512, activation='relu')(inputs)\nx = Dense(512, activation='relu')(x)\npredictions = Dense(num_classes, activation='softmax')(x)\n# Mainly we do predictions of 100 predictions using MNIST.\n# We've got two layers here first. \n# First one is Dense time layers which we have already seen \n# and the second one is a new layer type called Input. \n# On top of that, we import our new model class. \n# As before, we define the number of classes as 10 because we have 10 digits here. \n# And we define an input layer of shape 784, which is of vector shape length 784. \n# =====================================================================================\n# what we do next is new, we define a Dense of output dimension 512, \n# but instead of simply defining it, we call it on our inputs. \n# So we define x as a Dense layer applied to our inputs. \n# So what that means is, every layer in Keras, actually, every model for that purpose can be called in tensors to output tensors\n# step again and apply our intermediary x to a Dense layer again to arrive at yet another x. \n# Finally, we can do this a third time, this time with the number of classes as output dimension to arrive at our predictions. \n# So this procedure of calling layers on different inputs, you can do that in any fashion, \n# and slowly build up very complicated models. "
        }, 
        {
            "execution_count": null, 
            "cell_type": "code", 
            "metadata": {}, 
            "outputs": [], 
            "source": "#defining and running a Model\nmodel = Model(inputs=inputs, outputs=predictions)\nmodel.compile(optimizer='sgd', loss='categorical_crossentropy', metrics=['accuracy'])\nmodel.fit(...)#same as before"
        }
    ], 
    "metadata": {
        "kernelspec": {
            "display_name": "Python 3.5 with Spark 2.1", 
            "name": "python3-spark21", 
            "language": "python"
        }, 
        "language_info": {
            "mimetype": "text/x-python", 
            "nbconvert_exporter": "python", 
            "version": "3.5.4", 
            "name": "python", 
            "file_extension": ".py", 
            "pygments_lexer": "ipython3", 
            "codemirror_mode": {
                "version": 3, 
                "name": "ipython"
            }
        }
    }, 
    "nbformat": 4
}
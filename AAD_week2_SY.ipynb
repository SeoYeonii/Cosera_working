{
    "nbformat_minor": 1, 
    "cells": [
        {
            "source": "from tensorflow.examples.tutorials.mnist import input_data\nmnist = input_data.read_data_sets(\"MNSIT_data/\", one_hot=True)\n# mnist is a complex Python object", 
            "cell_type": "code", 
            "metadata": {}, 
            "outputs": [
                {
                    "output_type": "stream", 
                    "name": "stdout", 
                    "text": "Extracting MNSIT_data/train-images-idx3-ubyte.gz\nExtracting MNSIT_data/train-labels-idx1-ubyte.gz\nExtracting MNSIT_data/t10k-images-idx3-ubyte.gz\nExtracting MNSIT_data/t10k-labels-idx1-ubyte.gz\n"
                }
            ], 
            "execution_count": 3
        }, 
        {
            "source": "import tensorflow as tf ", 
            "cell_type": "code", 
            "metadata": {}, 
            "outputs": [], 
            "execution_count": 4
        }, 
        {
            "source": "%matplotlib inline\nimport  matplotlib.pyplot as plt", 
            "cell_type": "code", 
            "metadata": {}, 
            "outputs": [], 
            "execution_count": 5
        }, 
        {
            "source": "batch_xs, batch_ys = mnist.train.next_batch(1)\n# this is a  one hot encoded vector: the index of the actual corresponding number, we see on, and all the other elements are zero\n#now we will access 1 at a time image fromm 55,000 from the MNIST training set\nX = batch_xs\nX = X.reshape([28,28])\n# images in the Mnist dta set are 28 by 28 pixels. \n# but we are only optaining a vector of 784 pixel's length, so we have to reshape it\nplt.gray()\nprint(batch_ys)\nplt.imshow(X)", 
            "cell_type": "code", 
            "metadata": {}, 
            "outputs": [
                {
                    "output_type": "stream", 
                    "name": "stdout", 
                    "text": "[[ 0.  0.  0.  0.  0.  0.  1.  0.  0.  0.]]\n"
                }, 
                {
                    "output_type": "execute_result", 
                    "data": {
                        "text/plain": "<matplotlib.image.AxesImage at 0x7ff83c22b0b8>"
                    }, 
                    "execution_count": 21, 
                    "metadata": {}
                }, 
                {
                    "output_type": "display_data", 
                    "data": {
                        "image/png": "[encoded data removed]", 
                        "text/plain": "<matplotlib.figure.Figure at 0x7ff83c253c18>"
                    }, 
                    "metadata": {}
                }
            ], 
            "execution_count": 21
        }, 
        {
            "source": "x = tf.placeholder(tf.float32, [None, 784])\n# placeholder: tense sevice in Tensorflow that data is fed in during excution time\n# this is used  to add data during training, which takes place after this computation graph is constructed\n# placeholders are typed and we can use either sngle or a double position\n# so this placeholder will take our training vectors,\n#representing the images, the 784 elements inside\nW = tf.Variable(tf.zeros([784,10]))\n# a variable is sth Tensorflow retrieve during training whereas the placehlder is meant to keep training data\n# in additon a variable can be saved to disk during and after training for check pointing and water transfer\n# we create our weight matrix W with 784 bytes on one X's\n# just one for each element of X, and we do it 10 times\n# since we are basically running 10 soft mix regression motors in pararell\n# one for each possible digit\nb = tf.Variable(tf.zeros([10]))\n# finally we end up with a bias that draw one foot each soft next regression model\ny = tf.nn.softmax(tf.matmul(x,W)+b)\n# be aware that no computating is happening at this stage\n# we are not basically hooking up the notes together to form a computing of graph\n# softmax as well as Matmul expect Tensorflow variables as Polanyi does\n# we are just despiting the expressive computation of graph\n# whic is executed bt the Tensorflow engine in the background\n#Tensorflow is not having it's own domain specific language for doing so,\n#but it's relying on language bindings in different programming languages", 
            "cell_type": "code", 
            "metadata": {}, 
            "outputs": [], 
            "execution_count": 9
        }, 
        {
            "source": "y_ = tf.placeholder(tf.float32, [None,10])\n# creating another placeholder for a training level spike\n# These are often mentioned 10, because why? It is the one hot encoded vector labeling the image.", 
            "cell_type": "code", 
            "metadata": {}, 
            "outputs": [], 
            "execution_count": 11
        }, 
        {
            "source": "cross_entropy = tf.reduce_mean(-tf.reduce_sum(y_ * tf.log(y), reduction_indices=[1]))\n# Now we defined the cost function as cross-entropy. \n#Therefore, let me just walk you through the formula and we will see later how to implement it in TensorFlow. \n#So we take a predictive value of Y head and multiply it to the log of the desired value of Y and some of those values up. \n#So we start with the reduce mean function of TensorFlow, \n#because we are now calculating 10 individual cross-entrophy values, one for each softmax regression model. \n#Then we use Reduce Sum, to calculate the sum of the individual values of a Tensor. \n#And this Tensor is the product of the desired value, and the luck of the actual prediction.\ntrain_step = tf.train.GradientDescentOptimizer(0.5).minimize(cross_entropy)\n#Reduction indices defines that the dimension of the Tensor that aggregation should take place. \n#Since Y is a matrix of 10 columns and N rows, \n#he N stands for a number of creating examples, the sum over the columns to obtain the value for each digit. \n#This reside has no past to an argument to reduce mean, \n#so that the overall prediction error is calculated all of the individual prediction errors for each number between zero and nine.\n#Now, we use TensorFlow GradientDescentOptimizer with the learning rate of zero to five, \n# to tweak W and B with respect to the cross-entropy function. \n#So TensorFlow will take care of calculating the back propagation and gradients for this task automatically. \n#A feature called automatic differentiation, does the job for us.", 
            "cell_type": "code", 
            "metadata": {}, 
            "outputs": [], 
            "execution_count": 13
        }, 
        {
            "source": "sess = tf.InteractiveSession()\n#Now we create a TensorFlow session, since we are in an interactive context within a Jupiter notebook we use the interactive session.\n#A session is the way to deploy a TensorFlow execution graph, onto a specific execution context like a CPU or GPU.", 
            "cell_type": "code", 
            "metadata": {}, 
            "outputs": [], 
            "execution_count": 14
        }, 
        {
            "source": "tf.global_variables_initializer().run()\n#Then we initialize all global variables, since this hasn't been done. Remember, the chest has only expressed the computation of graph. Now it's time to bring it to life. ", 
            "cell_type": "code", 
            "metadata": {}, 
            "outputs": [], 
            "execution_count": 19
        }, 
        {
            "source": "#After the variables have been initialized, it's time to create our GradientsDescent loop.\nfor _ in range(1000):\n    batch_xs, batch_ys = mnist.train.next_batch(100)\n    sess.run(train_step, feed_dict={x: batch_xs, y_: batch_ys})\n#So this is batch Gradienst Descent, since on each iteration, \n#we graph a hand that randomly selected examples from returning set and using the session object, \n#the ExecuteGradientDescent for those hand out examples. \n#Note that if you pass the training example as parameters to this function call, \n#in order to assign them to the previously defined placeholders. So this runs very fast.", 
            "cell_type": "code", 
            "metadata": {}, 
            "outputs": [], 
            "execution_count": 22
        }, 
        {
            "source": "#Now let's evaluate our classification performance using the test set from MNIST. \ncorrect_prediction = tf.equal(tf.argmax(y,1), tf.argmax(y_,1))\n#So argmax returns the index of the tensor, in this case a vector, which the maximum value. \n#This may be can transform back from one hot encoding scheme to a scalar. ", 
            "cell_type": "code", 
            "metadata": {}, 
            "outputs": [], 
            "execution_count": 23
        }, 
        {
            "source": "accuracy = tf.reduce_mean(tf.cast(correct_prediction, tf.float32))\n#We use reduce mean in order to determine the amount of correctly predicted values, \n#but since correct prediction is a full in vector, we have to cast it to float in order to calculate the mean over this vector.", 
            "cell_type": "code", 
            "metadata": {}, 
            "outputs": [], 
            "execution_count": 24
        }, 
        {
            "source": "print(sess.run(accuracy, feed_dict={x: mnist.test.images, y_: mnist.test.labels}))\n#And again, accuracy is a note in computation of graph.\n#Therefore, we need to use the TensorFlow session in order to execute it. \n#Now the placeholders does become handy, because now we assign the test dataset to the graph. \n#And as expected, this timber regression model gives us 92 percent of accuracy. ", 
            "cell_type": "code", 
            "metadata": {}, 
            "outputs": [
                {
                    "output_type": "stream", 
                    "name": "stdout", 
                    "text": "0.918\n"
                }
            ], 
            "execution_count": 25
        }, 
        {
            "source": "", 
            "cell_type": "code", 
            "metadata": {}, 
            "outputs": [], 
            "execution_count": null
        }
    ], 
    "metadata": {
        "kernelspec": {
            "display_name": "Python 3.5 with Spark 2.1", 
            "name": "python3-spark21", 
            "language": "python"
        }, 
        "language_info": {
            "mimetype": "text/x-python", 
            "nbconvert_exporter": "python", 
            "version": "3.5.4", 
            "name": "python", 
            "pygments_lexer": "ipython3", 
            "file_extension": ".py", 
            "codemirror_mode": {
                "version": 3, 
                "name": "ipython"
            }
        }
    }, 
    "nbformat": 4
}
